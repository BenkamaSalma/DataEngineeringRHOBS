{
 "cells": [
  {
   "cell_type": "code",
   "execution_count": 10,
   "metadata": {},
   "outputs": [
    {
     "name": "stdout",
     "output_type": "stream",
     "text": [
      "Your mission shall you accept it is to\n",
      "\n",
      "* Explain every column.\n",
      "\n",
      "* Find the 3 richest person.\n",
      "\n",
      "\n",
      "\n",
      "This is a simple test, it should not take you more 30minutes to code.\n",
      "\n",
      "\n",
      "\n",
      "\n",
      "\n",
      "\n",
      "\n",
      "a,b,c,d,e,f,g\n",
      "\n",
      "0,longue description 0,Victor,Évrat,1779,0,1779\n",
      "\n",
      "1,longue description 1,Ugo,Ogier,3218,0,3218\n",
      "\n",
      "2,longue description 2,Gerard,Zola,3909,0,3909\n",
      "\n",
      "3,longue description 3,Ingrid,Quesada,2672,0,2672\n",
      "\n",
      "4,longue description 4,Xavier,Yvars,4224,0,4224\n",
      "\n",
      "5,longue description 5,Régis,Ferry,3479,0,3479\n",
      "\n",
      "6,longue description 6,Thierry,Zola,0,-402,-402\n",
      "\n",
      "7,longue description 7,Elodie,Hénaut,2623,0,2623\n",
      "\n",
      "8,longue description 0,Xavier,Zola,1249,0,1249\n",
      "\n",
      "9,longue description 1,Pascal,Cannet,1986,0,1986\n",
      "\n",
      "10,longue description 2,Victor,Martin,4417,0,4417\n",
      "\n",
      "11,longue description 3,Salomé,Niels,3175,0,3175\n",
      "\n",
      "12,longue description 4,Jérémie,Quesada,0,-490,-490\n",
      "\n",
      "13,longue description 5,Martine,Évrat,855,0,855\n",
      "\n",
      "14,longue description 6,Zoé,Urbain,3063,0,3063\n",
      "\n",
      "15,longue description 7,Léopold,Évrat,3453,0,3453\n",
      "\n",
      "16,longue description 0,Nicolas,Janel,1104,0,1104\n",
      "\n",
      "17,longue description 1,Pascal,Sablonnière,0,-973,-973\n",
      "\n",
      "18,longue description 2,Martine,Aubry,3419,0,3419\n",
      "\n",
      "19,longue description 3,Ugo,Hénaut,4847,0,4847\n",
      "\n",
      "20,longue description 4,Jérémie,Zola,2175,0,2175\n",
      "\n",
      "21,longue description 5,Karim,Zola,3680,0,3680\n",
      "\n",
      "22,longue description 6,Ugo,Vergez,785,0,785\n",
      "\n",
      "23,longue description 7,Zoé,Urbain,0,-849,2214\n",
      "\n",
      "24,longue description 0,Ugo,Barbier,1983,0,1983\n",
      "\n",
      "25,longue description 1,Pascal,Dupond,4206,0,4206\n",
      "\n",
      "26,longue description 2,Ingrid,Geneau,2538,0,2538\n",
      "\n",
      "27,longue description 3,Gerard,Ferry,1693,0,1693\n",
      "\n",
      "28,longue description 4,Jérémie,Barbier,1103,0,1103\n",
      "\n",
      "29,longue description 5,Martine,Niels,4225,0,4225\n",
      "\n",
      "30,longue description 6,Nicolas,Yvars,3600,0,3600\n",
      "\n"
     ]
    }
   ],
   "source": [
    "# Define the path to your file without an extension\n",
    "file_path = 'C:\\\\Users\\\\user\\\\Downloads\\\\RHOBS\\\\-'  \n",
    "\n",
    "# Open the file and read the first 40 lines\n",
    "with open(file_path, 'r', encoding='utf-8', errors='ignore') as file: \n",
    "    for _ in range(40):\n",
    "        line = file.readline()\n",
    "        if not line:  # Break if end of file is reached\n",
    "            break\n",
    "        print(line)\n",
    "\n"
   ]
  },
  {
   "cell_type": "code",
   "execution_count": 11,
   "metadata": {},
   "outputs": [],
   "source": [
    "import pandas as pd\n",
    "\n",
    "# Define the path to your file without an extension\n",
    "file_path = 'C:\\\\Users\\\\user\\\\Downloads\\\\RHOBS\\\\-'  # Replace 'your_file' with the actual file name\n",
    "\n",
    "# Initialize an empty list to hold the data\n",
    "data_lines = []\n",
    "\n",
    "# Open the file and process only the relevant data section\n",
    "with open(file_path, 'r', encoding='utf-8', errors='ignore') as file:\n",
    "    # Skip lines until the header is found\n",
    "    for line in file:\n",
    "        if line.strip() == 'a,b,c,d,e,f,g':\n",
    "            break  # Found the header, stop skipping lines\n",
    "    \n",
    "    # Read the next lines of actual data after the header\n",
    "    for line in file:\n",
    "        if line.strip() == '':  # Skip any empty lines that might separate sections\n",
    "            continue\n",
    "        data_lines.append(line.strip())\n",
    "        if len(data_lines) == 40:  # Stop after collecting 20 lines of data\n",
    "            break\n",
    "\n",
    "# Convert the list of strings to a list of lists, splitting each string by commas\n",
    "data = [line.split(',') for line in data_lines]\n",
    "\n",
    "# Create a DataFrame from the list of lists, using the first line as column headers\n",
    "df = pd.DataFrame(data, columns=['a', 'b', 'c', 'd', 'e', 'f', 'g'])\n",
    "\n",
    "#convert the 'e' column to numeric so it can be sorted\n",
    "df['e'] = pd.to_numeric(df['e'], errors='coerce')\n",
    "\n",
    "# The DataFrame 'df' now contains the data you want to work with\n"
   ]
  },
  {
   "cell_type": "code",
   "execution_count": 12,
   "metadata": {},
   "outputs": [
    {
     "data": {
      "text/html": [
       "<div>\n",
       "<style scoped>\n",
       "    .dataframe tbody tr th:only-of-type {\n",
       "        vertical-align: middle;\n",
       "    }\n",
       "\n",
       "    .dataframe tbody tr th {\n",
       "        vertical-align: top;\n",
       "    }\n",
       "\n",
       "    .dataframe thead th {\n",
       "        text-align: right;\n",
       "    }\n",
       "</style>\n",
       "<table border=\"1\" class=\"dataframe\">\n",
       "  <thead>\n",
       "    <tr style=\"text-align: right;\">\n",
       "      <th></th>\n",
       "      <th>a</th>\n",
       "      <th>b</th>\n",
       "      <th>c</th>\n",
       "      <th>d</th>\n",
       "      <th>e</th>\n",
       "      <th>f</th>\n",
       "      <th>g</th>\n",
       "    </tr>\n",
       "  </thead>\n",
       "  <tbody>\n",
       "    <tr>\n",
       "      <th>0</th>\n",
       "      <td>0</td>\n",
       "      <td>longue description 0</td>\n",
       "      <td>Victor</td>\n",
       "      <td>Évrat</td>\n",
       "      <td>1779</td>\n",
       "      <td>0</td>\n",
       "      <td>1779</td>\n",
       "    </tr>\n",
       "    <tr>\n",
       "      <th>1</th>\n",
       "      <td>1</td>\n",
       "      <td>longue description 1</td>\n",
       "      <td>Ugo</td>\n",
       "      <td>Ogier</td>\n",
       "      <td>3218</td>\n",
       "      <td>0</td>\n",
       "      <td>3218</td>\n",
       "    </tr>\n",
       "    <tr>\n",
       "      <th>2</th>\n",
       "      <td>2</td>\n",
       "      <td>longue description 2</td>\n",
       "      <td>Gerard</td>\n",
       "      <td>Zola</td>\n",
       "      <td>3909</td>\n",
       "      <td>0</td>\n",
       "      <td>3909</td>\n",
       "    </tr>\n",
       "    <tr>\n",
       "      <th>3</th>\n",
       "      <td>3</td>\n",
       "      <td>longue description 3</td>\n",
       "      <td>Ingrid</td>\n",
       "      <td>Quesada</td>\n",
       "      <td>2672</td>\n",
       "      <td>0</td>\n",
       "      <td>2672</td>\n",
       "    </tr>\n",
       "    <tr>\n",
       "      <th>4</th>\n",
       "      <td>4</td>\n",
       "      <td>longue description 4</td>\n",
       "      <td>Xavier</td>\n",
       "      <td>Yvars</td>\n",
       "      <td>4224</td>\n",
       "      <td>0</td>\n",
       "      <td>4224</td>\n",
       "    </tr>\n",
       "  </tbody>\n",
       "</table>\n",
       "</div>"
      ],
      "text/plain": [
       "   a                     b       c        d     e  f     g\n",
       "0  0  longue description 0  Victor    Évrat  1779  0  1779\n",
       "1  1  longue description 1     Ugo    Ogier  3218  0  3218\n",
       "2  2  longue description 2  Gerard     Zola  3909  0  3909\n",
       "3  3  longue description 3  Ingrid  Quesada  2672  0  2672\n",
       "4  4  longue description 4  Xavier    Yvars  4224  0  4224"
      ]
     },
     "execution_count": 12,
     "metadata": {},
     "output_type": "execute_result"
    }
   ],
   "source": [
    "df.head()"
   ]
  },
  {
   "cell_type": "code",
   "execution_count": 13,
   "metadata": {},
   "outputs": [
    {
     "name": "stdout",
     "output_type": "stream",
     "text": [
      "[                                        ] | 0% Completed | 1.25 ms"
     ]
    },
    {
     "name": "stdout",
     "output_type": "stream",
     "text": [
      "[##                                      ] | 7% Completed | 17.04 sms"
     ]
    }
   ],
   "source": [
    "import dask.dataframe as dd\n",
    "\n",
    "# Define the path to your file\n",
    "input_file_path = r'C:\\Users\\user\\Downloads\\RHOBS\\output.csv'  # Replace with the actual path to your CSV\n",
    "\n",
    "pbar = ProgressBar()\n",
    "pbar.register()\n",
    "# Read the data with dask.dataframe\n",
    "ddf = dd.read_csv(input_file_path)\n",
    "\n",
    "# Group by 'c' (name) and 'd' (family name), and sum 'g'\n",
    "aggregated_ddf = ddf.groupby(['c', 'd'])['g'].sum().reset_index()\n",
    "\n",
    "# Computing the result and convert to pandas dataframe \n",
    "aggregated_df = aggregated_ddf.compute()\n",
    "\n",
    "# Now 'aggregated_df' contains unique combinations of 'c' (name) and 'd' (family name) with the sum of 'g'\n",
    "print(aggregated_df)\n",
    "\n"
   ]
  },
  {
   "cell_type": "code",
   "execution_count": null,
   "metadata": {},
   "outputs": [
    {
     "data": {
      "text/html": [
       "<div>\n",
       "<style scoped>\n",
       "    .dataframe tbody tr th:only-of-type {\n",
       "        vertical-align: middle;\n",
       "    }\n",
       "\n",
       "    .dataframe tbody tr th {\n",
       "        vertical-align: top;\n",
       "    }\n",
       "\n",
       "    .dataframe thead th {\n",
       "        text-align: right;\n",
       "    }\n",
       "</style>\n",
       "<table border=\"1\" class=\"dataframe\">\n",
       "  <thead>\n",
       "    <tr style=\"text-align: right;\">\n",
       "      <th></th>\n",
       "      <th>c</th>\n",
       "      <th>d</th>\n",
       "      <th>g</th>\n",
       "    </tr>\n",
       "  </thead>\n",
       "  <tbody>\n",
       "    <tr>\n",
       "      <th>0</th>\n",
       "      <td>Amandine</td>\n",
       "      <td>Aubry</td>\n",
       "      <td>1.970864e+14</td>\n",
       "    </tr>\n",
       "    <tr>\n",
       "      <th>1</th>\n",
       "      <td>Amandine</td>\n",
       "      <td>Barbier</td>\n",
       "      <td>1.979809e+14</td>\n",
       "    </tr>\n",
       "    <tr>\n",
       "      <th>2</th>\n",
       "      <td>Amandine</td>\n",
       "      <td>Cannet</td>\n",
       "      <td>1.963529e+14</td>\n",
       "    </tr>\n",
       "    <tr>\n",
       "      <th>3</th>\n",
       "      <td>Amandine</td>\n",
       "      <td>Dupond</td>\n",
       "      <td>1.970091e+14</td>\n",
       "    </tr>\n",
       "    <tr>\n",
       "      <th>4</th>\n",
       "      <td>Amandine</td>\n",
       "      <td>Ferry</td>\n",
       "      <td>1.973869e+14</td>\n",
       "    </tr>\n",
       "  </tbody>\n",
       "</table>\n",
       "</div>"
      ],
      "text/plain": [
       "          c        d             g\n",
       "0  Amandine    Aubry  1.970864e+14\n",
       "1  Amandine  Barbier  1.979809e+14\n",
       "2  Amandine   Cannet  1.963529e+14\n",
       "3  Amandine   Dupond  1.970091e+14\n",
       "4  Amandine    Ferry  1.973869e+14"
      ]
     },
     "execution_count": 6,
     "metadata": {},
     "output_type": "execute_result"
    }
   ],
   "source": [
    "aggregated_df.head()"
   ]
  },
  {
   "cell_type": "code",
   "execution_count": null,
   "metadata": {},
   "outputs": [
    {
     "name": "stdout",
     "output_type": "stream",
     "text": [
      "[########################################] | 100% Completed | 228.71 s\n",
      "[########################################] | 100% Completed | 228.74 s\n",
      "          c         d             g\n",
      "671     Zoé  Walliand  1.988992e+14\n",
      "53   Céline   Barbier  1.986593e+14\n",
      "376  Océane     Niels  1.986399e+14\n"
     ]
    }
   ],
   "source": [
    "top_3_richest_ddf = aggregated_ddf.nlargest(3, 'g')\n",
    "\n",
    "\n",
    "top_3_richest_df = top_3_richest_ddf.compute()\n",
    "\n",
    "# Display the top 3 richest people\n",
    "print(top_3_richest_df)\n"
   ]
  },
  {
   "cell_type": "code",
   "execution_count": null,
   "metadata": {},
   "outputs": [],
   "source": [
    "results_file_path = r'C:\\Users\\user\\Downloads\\RHOBS\\results.csv'\n",
    "top_3_richest_df.to_csv(results_file_path, index=False)"
   ]
  },
  {
   "cell_type": "code",
   "execution_count": 3,
   "metadata": {},
   "outputs": [
    {
     "data": {
      "text/html": [
       "<a href='output_file40.csv' target='_blank'>output_file40.csv</a><br>"
      ],
      "text/plain": [
       "c:\\Users\\user\\Downloads\\RHOBS\\output_file40.csv"
      ]
     },
     "execution_count": 3,
     "metadata": {},
     "output_type": "execute_result"
    }
   ],
   "source": [
    "from IPython.display import FileLink\n",
    "\n",
    "# Save the DataFrame to a CSV file in the current working directory of the notebook\n",
    "df.to_csv('output_file40.csv', index=False)\n",
    "\n",
    "# Create a download link for the file\n",
    "FileLink('output_file40.csv')\n"
   ]
  },
  {
   "cell_type": "code",
   "execution_count": 4,
   "metadata": {},
   "outputs": [
    {
     "name": "stdout",
     "output_type": "stream",
     "text": [
      "Last line of the file:\n",
      "299999999,longue description 7,Xavier,Quesada,3293,0,887683098\n",
      "\n"
     ]
    }
   ],
   "source": [
    "# Define the path to your file\n",
    "file_path = 'C:\\\\Users\\\\user\\\\Downloads\\\\RHOBS\\\\-'\n",
    "\n",
    "def get_last_line(filename):\n",
    "    with open(filename, 'rb') as file:\n",
    "        file.seek(-2, 2)  # Go to the second byte before the end of the file\n",
    "        while file.read(1) != b'\\n':  # Keep moving backwards until you find a newline\n",
    "            file.seek(-2, 1)\n",
    "        last_line = file.readline().decode()  # Read and decode the last line\n",
    "    return last_line\n",
    "\n",
    "# Use the function to get the last line of the file\n",
    "last_line = get_last_line(file_path)\n",
    "\n",
    "# Print the last line for visualization\n",
    "print(\"Last line of the file:\")\n",
    "print(last_line)"
   ]
  }
 ],
 "metadata": {
  "kernelspec": {
   "display_name": "Python 3",
   "language": "python",
   "name": "python3"
  },
  "language_info": {
   "codemirror_mode": {
    "name": "ipython",
    "version": 3
   },
   "file_extension": ".py",
   "mimetype": "text/x-python",
   "name": "python",
   "nbconvert_exporter": "python",
   "pygments_lexer": "ipython3",
   "version": "3.10.11"
  }
 },
 "nbformat": 4,
 "nbformat_minor": 2
}
